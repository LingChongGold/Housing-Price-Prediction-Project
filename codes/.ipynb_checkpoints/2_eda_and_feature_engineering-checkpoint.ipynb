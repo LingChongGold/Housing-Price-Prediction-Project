{
 "cells": [
  {
   "cell_type": "markdown",
   "metadata": {},
   "source": [
    "# Exploratory and Feature Engineering"
   ]
  },
  {
   "cell_type": "markdown",
   "metadata": {},
   "source": [
    "In this notebook, we are performing exploratory data analysis and feature engineering to the data sets. We have many features which are discrete and we have to perform feature engineer on these features to change them to numerical so that they can be fitted to our model for evaluation\n",
    "\n",
    "Contents:\n",
    "- [Import Library and Load Data](#Import-Library-and-Load-Data)\n",
    "- [Feature Engineering](#Feature-Engineering)\n",
    "- [Final Check and Saving Data Frame](Final-Check-and-Saving-Data-Frame)"
   ]
  },
  {
   "cell_type": "markdown",
   "metadata": {},
   "source": [
    "## Import Library and Load Data"
   ]
  },
  {
   "cell_type": "code",
   "execution_count": 1,
   "metadata": {},
   "outputs": [],
   "source": [
    "#importing libraries\n",
    "\n",
    "import pandas as pd\n",
    "import numpy as np\n",
    "import scipy.stats as stats\n",
    "\n",
    "import matplotlib.pyplot as plt\n",
    "import seaborn as sns\n",
    "%matplotlib inline"
   ]
  },
  {
   "cell_type": "code",
   "execution_count": 2,
   "metadata": {},
   "outputs": [],
   "source": [
    "train = pd.read_csv('../datasets/train_cleansed.csv')\n",
    "test = pd.read_csv('../datasets/test_cleansed.csv')"
   ]
  },
  {
   "cell_type": "markdown",
   "metadata": {},
   "source": [
    "## Feature Engineering"
   ]
  },
  {
   "cell_type": "markdown",
   "metadata": {},
   "source": [
    "### Sale Price"
   ]
  },
  {
   "cell_type": "markdown",
   "metadata": {},
   "source": [
    "We shall take a look at the sale price. Primarily, we should see that there are no negative value or illogical values in the columns"
   ]
  },
  {
   "cell_type": "code",
   "execution_count": 3,
   "metadata": {},
   "outputs": [
    {
     "data": {
      "text/plain": [
       "count      2048.000000\n",
       "mean     181484.252441\n",
       "std       79248.657891\n",
       "min       12789.000000\n",
       "25%      129837.500000\n",
       "50%      162500.000000\n",
       "75%      214000.000000\n",
       "max      611657.000000\n",
       "Name: SalePrice, dtype: float64"
      ]
     },
     "execution_count": 3,
     "metadata": {},
     "output_type": "execute_result"
    }
   ],
   "source": [
    "train['SalePrice'].describe()"
   ]
  },
  {
   "cell_type": "markdown",
   "metadata": {},
   "source": [
    "There are no obvious errors from this stage of the analysis"
   ]
  },
  {
   "cell_type": "markdown",
   "metadata": {},
   "source": [
    "### ID and PID"
   ]
  },
  {
   "cell_type": "markdown",
   "metadata": {},
   "source": [
    "We will create a function to return the number of unique values in the columns and also the number of rows in the dataframe to confirm that all values in the column are unique"
   ]
  },
  {
   "cell_type": "code",
   "execution_count": 4,
   "metadata": {},
   "outputs": [],
   "source": [
    "# function to return the unique values and row of the column \n",
    "\n",
    "def check_unique(df, column_list):\n",
    "    for i in column_list:\n",
    "        rows = df.shape[0] # this gives the number of rows in the dataframe\n",
    "        unique = len(df[i].unique()) # this gives the length of unique values in the column\n",
    "        print(\"Number of unique {} is {} \\nNumber of rows is {}.\".format(i, unique, rows))"
   ]
  },
  {
   "cell_type": "code",
   "execution_count": 5,
   "metadata": {},
   "outputs": [
    {
     "name": "stdout",
     "output_type": "stream",
     "text": [
      "Number of unique Id is 2048 \n",
      "Number of rows is 2048.\n",
      "Number of unique PID is 2048 \n",
      "Number of rows is 2048.\n"
     ]
    }
   ],
   "source": [
    "column_list = ['Id', 'PID']\n",
    "check_unique(train, column_list)"
   ]
  },
  {
   "cell_type": "code",
   "execution_count": 6,
   "metadata": {},
   "outputs": [
    {
     "name": "stdout",
     "output_type": "stream",
     "text": [
      "Number of unique Id is 879 \n",
      "Number of rows is 879.\n",
      "Number of unique PID is 879 \n",
      "Number of rows is 879.\n"
     ]
    }
   ],
   "source": [
    "check_unique(test, column_list)"
   ]
  },
  {
   "cell_type": "markdown",
   "metadata": {},
   "source": [
    "From the above, we can see that all Id and PID are uniques. The number of unique values for each column is the same as the number of rows in the dataframe"
   ]
  },
  {
   "cell_type": "markdown",
   "metadata": {},
   "source": [
    "### Rest of  Columns"
   ]
  },
  {
   "cell_type": "markdown",
   "metadata": {},
   "source": [
    "We have 78 more columns to explore. We shall break them down into data types, then look at them. This function was created in notebook 1, we shall use them again in this notebook"
   ]
  },
  {
   "cell_type": "code",
   "execution_count": 7,
   "metadata": {},
   "outputs": [],
   "source": [
    "# function to get data type for each column and display columns with same data types\n",
    "\n",
    "def get_columns_dtype(dataframe):\n",
    "    object_col = []\n",
    "    integer_col = []\n",
    "    float_col = []\n",
    "    \n",
    "    object_type = dataframe.select_dtypes([np.object]).columns\n",
    "    integer_type = dataframe.select_dtypes([np.int64, np.uint8]).columns \n",
    "    float_type = dataframe.select_dtypes([np.float64]).columns\n",
    "    \n",
    "    for object_dtype in object_type:\n",
    "        object_col.append(object_dtype)\n",
    "    \n",
    "    for integer_dtype in integer_type:\n",
    "        integer_col.append(integer_dtype)\n",
    "    \n",
    "    for float_dtype in float_type:\n",
    "        float_col.append(float_dtype)\n",
    "        \n",
    "        \n",
    "    print('Columns with Object Data Type are: \\n{}'.format(object_col))\n",
    "    print('Total number of object columns are : {}'.format(len(object_col)))\n",
    "    print('')\n",
    "    print('Columns with Integer Data Type are: \\n{}'.format(integer_col))\n",
    "    print('Total number of integer columns are : {}'.format(len(integer_col)))\n",
    "    print('')\n",
    "    print('Columns with Float Data Type are: \\n{}'.format(float_col))\n",
    "    print('Total number of float columns are : {}'.format(len(float_col)))"
   ]
  },
  {
   "cell_type": "code",
   "execution_count": 8,
   "metadata": {},
   "outputs": [
    {
     "name": "stdout",
     "output_type": "stream",
     "text": [
      "Columns with Object Data Type are: \n",
      "['MS Zoning', 'Street', 'Alley', 'Lot Shape', 'Land Contour', 'Utilities', 'Lot Config', 'Land Slope', 'Neighborhood', 'Condition 1', 'Condition 2', 'Bldg Type', 'House Style', 'Roof Style', 'Roof Matl', 'Exterior 1st', 'Exterior 2nd', 'Mas Vnr Type', 'Exter Qual', 'Exter Cond', 'Foundation', 'Bsmt Qual', 'Bsmt Cond', 'Bsmt Exposure', 'BsmtFin Type 1', 'BsmtFin Type 2', 'Heating', 'Heating QC', 'Central Air', 'Electrical', 'Kitchen Qual', 'Functional', 'Fireplace Qu', 'Garage Type', 'Garage Finish', 'Garage Qual', 'Garage Cond', 'Paved Drive', 'Pool QC', 'Fence', 'Misc Feature', 'Sale Type']\n",
      "Total number of object columns are : 42\n",
      "\n",
      "Columns with Integer Data Type are: \n",
      "['Id', 'PID', 'MS SubClass', 'Lot Area', 'Overall Qual', 'Overall Cond', 'Year Built', 'Year Remod/Add', '1st Flr SF', '2nd Flr SF', 'Low Qual Fin SF', 'Gr Liv Area', 'Full Bath', 'Half Bath', 'Bedroom AbvGr', 'Kitchen AbvGr', 'TotRms AbvGrd', 'Fireplaces', 'Wood Deck SF', 'Open Porch SF', 'Enclosed Porch', '3Ssn Porch', 'Screen Porch', 'Pool Area', 'Misc Val', 'Mo Sold', 'Yr Sold', 'SalePrice']\n",
      "Total number of integer columns are : 28\n",
      "\n",
      "Columns with Float Data Type are: \n",
      "['Lot Frontage', 'Mas Vnr Area', 'BsmtFin SF 1', 'BsmtFin SF 2', 'Bsmt Unf SF', 'Total Bsmt SF', 'Bsmt Full Bath', 'Bsmt Half Bath', 'Garage Yr Blt', 'Garage Cars', 'Garage Area']\n",
      "Total number of float columns are : 11\n"
     ]
    }
   ],
   "source": [
    "get_columns_dtype(train)"
   ]
  },
  {
   "cell_type": "markdown",
   "metadata": {},
   "source": [
    "#### Float columns"
   ]
  },
  {
   "cell_type": "markdown",
   "metadata": {},
   "source": [
    "We will first look at columns of float data type"
   ]
  },
  {
   "cell_type": "code",
   "execution_count": 9,
   "metadata": {},
   "outputs": [],
   "source": [
    "float_columns = ['Lot Frontage', 'Mas Vnr Area', 'BsmtFin SF 1', 'BsmtFin SF 2', \n",
    "                 'Bsmt Unf SF', 'Total Bsmt SF', 'Bsmt Full Bath', 'Bsmt Half Bath', 'Garage Yr Blt', \n",
    "                 'Garage Cars', 'Garage Area']"
   ]
  },
  {
   "cell_type": "markdown",
   "metadata": {},
   "source": [
    "##### Basement"
   ]
  },
  {
   "cell_type": "code",
   "execution_count": 10,
   "metadata": {},
   "outputs": [],
   "source": [
    "columns_to_look = ['BsmtFin SF 1', 'BsmtFin SF 2', 'Bsmt Unf SF', 'Total Bsmt SF', 'Bsmt Full Bath', 'Bsmt Half Bath']"
   ]
  },
  {
   "cell_type": "markdown",
   "metadata": {},
   "source": [
    "From kaggle dictionary, Bsmt Full Bath and Bsmt Half Bath represents the numbers of full and half bath in the basement, a better data type should be integer. We will convert them to integer. Again, this function was created in notebook 1. We shall use them for this purpose"
   ]
  },
  {
   "cell_type": "code",
   "execution_count": 11,
   "metadata": {},
   "outputs": [],
   "source": [
    "def change_dtype(dataframe, columns, to_type):\n",
    "    for i in columns:\n",
    "        dataframe[i] = dataframe[i].astype(to_type)"
   ]
  },
  {
   "cell_type": "code",
   "execution_count": 12,
   "metadata": {},
   "outputs": [],
   "source": [
    "columns = ['Bsmt Full Bath', 'Bsmt Half Bath']\n",
    "to_type = 'int64'\n",
    "\n",
    "change_dtype(train, columns, to_type)\n",
    "change_dtype(test, columns, to_type)"
   ]
  },
  {
   "cell_type": "markdown",
   "metadata": {},
   "source": [
    "Total Bsmt SF seems to be calculated from BsmtFin SF 1, BsmtFin SF 2, Bsmt Unf SF. Let us make a check to confirm that this is the case. "
   ]
  },
  {
   "cell_type": "code",
   "execution_count": 13,
   "metadata": {},
   "outputs": [
    {
     "data": {
      "text/html": [
       "<div>\n",
       "<style scoped>\n",
       "    .dataframe tbody tr th:only-of-type {\n",
       "        vertical-align: middle;\n",
       "    }\n",
       "\n",
       "    .dataframe tbody tr th {\n",
       "        vertical-align: top;\n",
       "    }\n",
       "\n",
       "    .dataframe thead th {\n",
       "        text-align: right;\n",
       "    }\n",
       "</style>\n",
       "<table border=\"1\" class=\"dataframe\">\n",
       "  <thead>\n",
       "    <tr style=\"text-align: right;\">\n",
       "      <th></th>\n",
       "      <th>Id</th>\n",
       "      <th>PID</th>\n",
       "      <th>MS SubClass</th>\n",
       "      <th>MS Zoning</th>\n",
       "      <th>Lot Frontage</th>\n",
       "      <th>Lot Area</th>\n",
       "      <th>Street</th>\n",
       "      <th>Alley</th>\n",
       "      <th>Lot Shape</th>\n",
       "      <th>Land Contour</th>\n",
       "      <th>...</th>\n",
       "      <th>Screen Porch</th>\n",
       "      <th>Pool Area</th>\n",
       "      <th>Pool QC</th>\n",
       "      <th>Fence</th>\n",
       "      <th>Misc Feature</th>\n",
       "      <th>Misc Val</th>\n",
       "      <th>Mo Sold</th>\n",
       "      <th>Yr Sold</th>\n",
       "      <th>Sale Type</th>\n",
       "      <th>SalePrice</th>\n",
       "    </tr>\n",
       "  </thead>\n",
       "  <tbody>\n",
       "  </tbody>\n",
       "</table>\n",
       "<p>0 rows × 81 columns</p>\n",
       "</div>"
      ],
      "text/plain": [
       "Empty DataFrame\n",
       "Columns: [Id, PID, MS SubClass, MS Zoning, Lot Frontage, Lot Area, Street, Alley, Lot Shape, Land Contour, Utilities, Lot Config, Land Slope, Neighborhood, Condition 1, Condition 2, Bldg Type, House Style, Overall Qual, Overall Cond, Year Built, Year Remod/Add, Roof Style, Roof Matl, Exterior 1st, Exterior 2nd, Mas Vnr Type, Mas Vnr Area, Exter Qual, Exter Cond, Foundation, Bsmt Qual, Bsmt Cond, Bsmt Exposure, BsmtFin Type 1, BsmtFin SF 1, BsmtFin Type 2, BsmtFin SF 2, Bsmt Unf SF, Total Bsmt SF, Heating, Heating QC, Central Air, Electrical, 1st Flr SF, 2nd Flr SF, Low Qual Fin SF, Gr Liv Area, Bsmt Full Bath, Bsmt Half Bath, Full Bath, Half Bath, Bedroom AbvGr, Kitchen AbvGr, Kitchen Qual, TotRms AbvGrd, Functional, Fireplaces, Fireplace Qu, Garage Type, Garage Yr Blt, Garage Finish, Garage Cars, Garage Area, Garage Qual, Garage Cond, Paved Drive, Wood Deck SF, Open Porch SF, Enclosed Porch, 3Ssn Porch, Screen Porch, Pool Area, Pool QC, Fence, Misc Feature, Misc Val, Mo Sold, Yr Sold, Sale Type, SalePrice]\n",
       "Index: []\n",
       "\n",
       "[0 rows x 81 columns]"
      ]
     },
     "execution_count": 13,
     "metadata": {},
     "output_type": "execute_result"
    }
   ],
   "source": [
    "train[train['Total Bsmt SF'] != (train['BsmtFin SF 1'] + train['BsmtFin SF 2'] + train['Bsmt Unf SF'])]"
   ]
  },
  {
   "cell_type": "markdown",
   "metadata": {},
   "source": [
    "We can create another column with values for the total finished basement square feet which shows the total area of basement which are finished. This value can be calculated from the sum of finished area of basement 1 and finished area of basement 2"
   ]
  },
  {
   "cell_type": "code",
   "execution_count": 14,
   "metadata": {},
   "outputs": [],
   "source": [
    "train['Bsmt Total Fin SF'] = train['BsmtFin SF 1'] + train['BsmtFin SF 2']\n",
    "test['Bsmt Total Fin SF'] = test['BsmtFin SF 1'] + test['BsmtFin SF 2']"
   ]
  },
  {
   "cell_type": "code",
   "execution_count": 15,
   "metadata": {},
   "outputs": [],
   "source": [
    "# update float columns to track our progress\n",
    "float_columns = [x for x in float_columns if x not in columns_to_look] "
   ]
  },
  {
   "cell_type": "markdown",
   "metadata": {},
   "source": [
    "##### Garage"
   ]
  },
  {
   "cell_type": "code",
   "execution_count": 16,
   "metadata": {},
   "outputs": [],
   "source": [
    "columns_to_look = ['Garage Yr Blt', 'Garage Cars', 'Garage Area']"
   ]
  },
  {
   "cell_type": "markdown",
   "metadata": {},
   "source": [
    "Garage Yr Blt shows the year the garage was built reflecting the same kind of data as Yr Sold which is integer. We will change the data type of Garage Yr Blt to integer"
   ]
  },
  {
   "cell_type": "code",
   "execution_count": 17,
   "metadata": {},
   "outputs": [],
   "source": [
    "columns = ['Garage Yr Blt']\n",
    "to_type = 'int64'\n",
    "\n",
    "change_dtype(train, columns, to_type)\n",
    "change_dtype(test, columns, to_type)"
   ]
  },
  {
   "cell_type": "markdown",
   "metadata": {},
   "source": [
    "From Kaggle Data Dictionary, Garage Cars is the number of cars the garage can fit. This can be inferred from Garage Area which shows the size of the garage. We will drop Garage Cars "
   ]
  },
  {
   "cell_type": "code",
   "execution_count": 18,
   "metadata": {},
   "outputs": [],
   "source": [
    "train.drop(['Garage Cars'], axis = 1, inplace = True)\n",
    "test.drop(['Garage Cars'], axis = 1, inplace = True)\n",
    "\n",
    "float_columns = [x for x in float_columns if x not in columns_to_look] # update float columns to track our progress"
   ]
  },
  {
   "cell_type": "markdown",
   "metadata": {},
   "source": [
    "#### Lot Area and Masonry Veneer Area"
   ]
  },
  {
   "cell_type": "code",
   "execution_count": 19,
   "metadata": {},
   "outputs": [],
   "source": [
    "columns_to_look = ['Lot Frontage', 'Mas Vnr Area']"
   ]
  },
  {
   "cell_type": "markdown",
   "metadata": {},
   "source": [
    "From Kaggle Dictionary, Lot Frontage is the Linear Feet of street connected to property and Mas Vnr Area is the Mansonry Area in sqaure feet. During data cleaning, we see that Mas Vnr Area's mode is 0.0, we shall keep both columns for now. "
   ]
  },
  {
   "cell_type": "code",
   "execution_count": 20,
   "metadata": {},
   "outputs": [],
   "source": [
    "float_columns = [x for x in float_columns if x not in columns_to_look] # update float columns to track our progress"
   ]
  },
  {
   "cell_type": "markdown",
   "metadata": {},
   "source": [
    "We had completed looking at all columns with float data type. We can confirm this by calling the updated list"
   ]
  },
  {
   "cell_type": "code",
   "execution_count": 21,
   "metadata": {},
   "outputs": [
    {
     "data": {
      "text/plain": [
       "[]"
      ]
     },
     "execution_count": 21,
     "metadata": {},
     "output_type": "execute_result"
    }
   ],
   "source": [
    "float_columns"
   ]
  },
  {
   "cell_type": "markdown",
   "metadata": {},
   "source": [
    "### Object Columns"
   ]
  },
  {
   "cell_type": "markdown",
   "metadata": {},
   "source": [
    "Now we will look at columns with object data type. We will first create a list of the columns and update the list after we have completed looking into the column"
   ]
  },
  {
   "cell_type": "code",
   "execution_count": 22,
   "metadata": {},
   "outputs": [],
   "source": [
    "object_columns = ['MS Zoning', 'Street', 'Alley', 'Lot Shape', 'Land Contour', 'Utilities', 'Lot Config', 'Land Slope', \n",
    "                  'Neighborhood', 'Condition 1', 'Condition 2', 'Bldg Type', 'House Style', 'Roof Style', 'Roof Matl', \n",
    "                  'Exterior 1st', 'Exterior 2nd', 'Mas Vnr Type', 'Exter Qual', 'Exter Cond', 'Foundation', 'Bsmt Qual', \n",
    "                  'Bsmt Cond', 'Bsmt Exposure', 'BsmtFin Type 1', 'BsmtFin Type 2', 'Heating', 'Heating QC', 'Central Air', \n",
    "                  'Electrical', 'Kitchen Qual', 'Functional', 'Fireplace Qu', 'Garage Type', 'Garage Finish', 'Garage Qual', \n",
    "                  'Garage Cond', 'Paved Drive', 'Pool QC', 'Fence', 'Misc Feature', 'Sale Type']"
   ]
  },
  {
   "cell_type": "markdown",
   "metadata": {},
   "source": [
    "#### Ordinal Encoding"
   ]
  },
  {
   "cell_type": "markdown",
   "metadata": {},
   "source": [
    "From Kaggle dictionary we can determine that there are quite a number of quality columns with the same categories. We shall look at them and fill them with numeric value, there are also some columns which do not display quality, however, from the data dictionary and some general knowledge, we can determine that one category will be better than another. Example, more utilities is considered better than no utilities.\n",
    "\n",
    "We will first create a function which can assist us in performing this as this will be a repeated operation"
   ]
  },
  {
   "cell_type": "code",
   "execution_count": 23,
   "metadata": {},
   "outputs": [],
   "source": [
    "# function to replace quality columns with values from dictionary\n",
    "\n",
    "def quality_columns_to_numeric(dataframe, columns, dictionary):\n",
    "    #possible_values = dict_values.keys()\n",
    "    for i in columns:\n",
    "        dataframe[i].replace(dictionary, inplace = True)\n",
    "        dataframe[i] = dataframe[i].astype('int64')"
   ]
  },
  {
   "cell_type": "code",
   "execution_count": 24,
   "metadata": {},
   "outputs": [],
   "source": [
    "columns_to_look = ['Exter Qual', 'Exter Cond', 'Bsmt Qual', 'Bsmt Cond', 'Heating QC', 'Kitchen Qual', 'Fireplace Qu', \n",
    "                   'Garage Qual', 'Garage Cond', 'Pool QC']"
   ]
  },
  {
   "cell_type": "code",
   "execution_count": 25,
   "metadata": {},
   "outputs": [],
   "source": [
    "dictionary = {'Ex': 5,\n",
    "               'Gd' : 4,\n",
    "               'TA' : 3,\n",
    "               'Fa' : 2,\n",
    "               'Po' : 1,\n",
    "               'None' : 0 }\n",
    "\n",
    "quality_columns_to_numeric(train, columns_to_look, dictionary)\n",
    "quality_columns_to_numeric(test, columns_to_look, dictionary)"
   ]
  },
  {
   "cell_type": "code",
   "execution_count": 26,
   "metadata": {},
   "outputs": [],
   "source": [
    "object_columns = [x for x in object_columns if x not in columns_to_look] # update object columns to track our progress"
   ]
  },
  {
   "cell_type": "code",
   "execution_count": 27,
   "metadata": {},
   "outputs": [],
   "source": [
    "columns_to_look = ['Bsmt Exposure']\n",
    "dictionary = {'Gd' : 4,\n",
    "             'Av' : 3,\n",
    "             'Mn' : 2,\n",
    "             'No' : 1,\n",
    "             'None' : 0}\n",
    "\n",
    "quality_columns_to_numeric(train, columns_to_look, dictionary)\n",
    "quality_columns_to_numeric(test, columns_to_look, dictionary)\n",
    "object_columns = [x for x in object_columns if x not in columns_to_look] # update object columns to track our progress"
   ]
  },
  {
   "cell_type": "markdown",
   "metadata": {},
   "source": [
    "It can be inferred that properties with more utilities are better sought after, fetching a better price. As such we will  consider this column as a quality column and fill them with the logical ranking"
   ]
  },
  {
   "cell_type": "code",
   "execution_count": 28,
   "metadata": {},
   "outputs": [],
   "source": [
    "columns_to_look = ['Utilities']\n",
    "dictionary = {'AllPub' : 4,\n",
    "             'NoSewr' : 3,\n",
    "             'NoSeWa' : 2,\n",
    "             'ELO' : 1}\n",
    "\n",
    "quality_columns_to_numeric(train, columns_to_look, dictionary)\n",
    "quality_columns_to_numeric(test, columns_to_look, dictionary)\n",
    "object_columns = [x for x in object_columns if x not in columns_to_look] # update object columns to track our progress"
   ]
  },
  {
   "cell_type": "markdown",
   "metadata": {},
   "source": [
    "Similar to Utilities, It can be inferred that properties with better foundation are perceived to have better quality. As such we will  consider this column as a quality column and fill them with the logical ranking"
   ]
  },
  {
   "cell_type": "code",
   "execution_count": 29,
   "metadata": {},
   "outputs": [],
   "source": [
    "columns_to_look = ['Foundation']\n",
    "dictionary = {'BrkTil' : 6,\n",
    "             'CBlock' : 5,\n",
    "             'PConc' : 4,\n",
    "             'Slab' : 3,\n",
    "             'Stone' : 2,\n",
    "             'Wood' : 1}\n",
    "\n",
    "quality_columns_to_numeric(train, columns_to_look, dictionary)\n",
    "quality_columns_to_numeric(test, columns_to_look, dictionary)\n",
    "object_columns = [x for x in object_columns if x not in columns_to_look] # update object columns to track our progress"
   ]
  },
  {
   "cell_type": "markdown",
   "metadata": {},
   "source": [
    "We can infer that paved drive way is better than partial driveway. And they are considered better than no driveway. As such we will see them as quality columns"
   ]
  },
  {
   "cell_type": "code",
   "execution_count": 30,
   "metadata": {},
   "outputs": [],
   "source": [
    "columns_to_look = ['Paved Drive']\n",
    "dictionary = {'Y' : 2,\n",
    "             'P' : 1,\n",
    "             'N' : 0,}\n",
    "\n",
    "quality_columns_to_numeric(train, columns_to_look, dictionary)\n",
    "quality_columns_to_numeric(test, columns_to_look, dictionary)\n",
    "object_columns = [x for x in object_columns if x not in columns_to_look] # update object columns to track our progress"
   ]
  },
  {
   "cell_type": "markdown",
   "metadata": {},
   "source": [
    "From Kaggle's data dictionary, Fence is a quality column although at one look at the dataset it do not seem obvious"
   ]
  },
  {
   "cell_type": "code",
   "execution_count": 31,
   "metadata": {},
   "outputs": [],
   "source": [
    "columns_to_look = ['Fence']\n",
    "dictionary = {'GdPrv' : 4,\n",
    "             'MnPrv' : 3,\n",
    "             'GdWo' : 2,\n",
    "             'MnWw' : 1,\n",
    "             'None' : 0}\n",
    "\n",
    "quality_columns_to_numeric(train, columns_to_look, dictionary)\n",
    "quality_columns_to_numeric(test, columns_to_look, dictionary)\n",
    "object_columns = [x for x in object_columns if x not in columns_to_look] # update object columns to track our progress"
   ]
  },
  {
   "cell_type": "markdown",
   "metadata": {},
   "source": [
    "Properties with Central Air are deemed to better in quality than properties without centra air. As such we will treat this column as a quality column "
   ]
  },
  {
   "cell_type": "code",
   "execution_count": 32,
   "metadata": {},
   "outputs": [],
   "source": [
    "columns_to_look = ['Central Air']\n",
    "dictionary = {'Y' : 2,\n",
    "             'N' : 1,}\n",
    "\n",
    "quality_columns_to_numeric(train, columns_to_look, dictionary)\n",
    "quality_columns_to_numeric(test, columns_to_look, dictionary)\n",
    "object_columns = [x for x in object_columns if x not in columns_to_look] # update object columns to track our progress"
   ]
  },
  {
   "cell_type": "markdown",
   "metadata": {},
   "source": [
    "Electrical shows the type of electrical system of the property, which is also qualifiable. We shall treat this column as a quality column"
   ]
  },
  {
   "cell_type": "code",
   "execution_count": 33,
   "metadata": {},
   "outputs": [],
   "source": [
    "columns_to_look = ['Electrical']\n",
    "dictionary = {'SBrkr' : 5,\n",
    "             'FuseA' : 4,\n",
    "             'FuseF' : 3,\n",
    "             'FuseP' : 2,\n",
    "             'Mix' : 1,}\n",
    "\n",
    "quality_columns_to_numeric(train, columns_to_look, dictionary)\n",
    "quality_columns_to_numeric(test, columns_to_look, dictionary)\n",
    "object_columns = [x for x in object_columns if x not in columns_to_look] # update object columns to track our progress"
   ]
  },
  {
   "cell_type": "markdown",
   "metadata": {},
   "source": [
    "Functional shows the functionality of the house. Its categories includes, Typical, Minor Damage 1, Minor Damage 2 all the way to salvage. We will fill these categories accordingly based on their grade"
   ]
  },
  {
   "cell_type": "code",
   "execution_count": 34,
   "metadata": {},
   "outputs": [],
   "source": [
    "columns_to_look = ['Functional']\n",
    "dictionary = {'Typ' : 8,\n",
    "             'Min1' : 7,\n",
    "             'Min2' : 6,\n",
    "             'Mod' : 5,\n",
    "             'Maj1' : 4,\n",
    "             'Maj2' : 2,\n",
    "             'Sev' : 2,\n",
    "             'Sal' : 1}\n",
    "\n",
    "quality_columns_to_numeric(train, columns_to_look, dictionary)\n",
    "quality_columns_to_numeric(test, columns_to_look, dictionary)\n",
    "object_columns = [x for x in object_columns if x not in columns_to_look] # update object columns to track our progress"
   ]
  },
  {
   "cell_type": "markdown",
   "metadata": {},
   "source": [
    "Sale Type is also a quality column, the type of sale affects the price, for example, New will fetch a better price. As such we will qualify the categories"
   ]
  },
  {
   "cell_type": "code",
   "execution_count": 35,
   "metadata": {},
   "outputs": [],
   "source": [
    "columns_to_look = ['Sale Type']\n",
    "dictionary = {'New' : 10,\n",
    "              'Con' : 9,\n",
    "             'ConLI' : 8,\n",
    "             'CWD' : 7,\n",
    "              'VWD' : 6,\n",
    "             'WD ' : 5,\n",
    "             'COD' : 4,\n",
    "             'ConLD' : 3,\n",
    "             'Oth' : 2,\n",
    "             'ConLw' : 1}\n",
    "\n",
    "quality_columns_to_numeric(train, columns_to_look, dictionary)\n",
    "quality_columns_to_numeric(test, columns_to_look, dictionary)\n",
    "object_columns = [x for x in object_columns if x not in columns_to_look] # update object columns to track our progress"
   ]
  },
  {
   "cell_type": "markdown",
   "metadata": {},
   "source": [
    "Garage Finish shows if the garage is finish or their level of finish. We will also treat this column as a quality column"
   ]
  },
  {
   "cell_type": "code",
   "execution_count": 36,
   "metadata": {},
   "outputs": [],
   "source": [
    "columns_to_look = ['Garage Finish']\n",
    "dictionary = {'Fin' : 3,\n",
    "             'RFn' : 2,\n",
    "             'Unf' : 1,\n",
    "             'None' : 0}\n",
    "\n",
    "quality_columns_to_numeric(train, columns_to_look, dictionary)\n",
    "quality_columns_to_numeric(test, columns_to_look, dictionary)\n",
    "object_columns = [x for x in object_columns if x not in columns_to_look] # update object columns to track our progress"
   ]
  },
  {
   "cell_type": "markdown",
   "metadata": {},
   "source": [
    "#### One Hot Encoding"
   ]
  },
  {
   "cell_type": "code",
   "execution_count": 37,
   "metadata": {},
   "outputs": [
    {
     "name": "stdout",
     "output_type": "stream",
     "text": [
      "['MS Zoning', 'Street', 'Alley', 'Lot Shape', 'Land Contour', 'Lot Config', 'Land Slope', 'Neighborhood', 'Condition 1', 'Condition 2', 'Bldg Type', 'House Style', 'Roof Style', 'Roof Matl', 'Exterior 1st', 'Exterior 2nd', 'Mas Vnr Type', 'BsmtFin Type 1', 'BsmtFin Type 2', 'Heating', 'Garage Type', 'Misc Feature']\n"
     ]
    }
   ],
   "source": [
    "print(object_columns)"
   ]
  },
  {
   "cell_type": "markdown",
   "metadata": {},
   "source": [
    "The remaining object columns do not seems to refer to data which reflects quality of the property. As such we will one hot encode them. After encoding them, we will print the shape of both data frames to check for any discrepencies"
   ]
  },
  {
   "cell_type": "code",
   "execution_count": 38,
   "metadata": {},
   "outputs": [
    {
     "data": {
      "text/plain": [
       "(2048, 201)"
      ]
     },
     "execution_count": 38,
     "metadata": {},
     "output_type": "execute_result"
    }
   ],
   "source": [
    "train = pd.get_dummies(train, columns = object_columns, drop_first = True)\n",
    "train.shape"
   ]
  },
  {
   "cell_type": "code",
   "execution_count": 39,
   "metadata": {},
   "outputs": [
    {
     "data": {
      "text/plain": [
       "(879, 190)"
      ]
     },
     "execution_count": 39,
     "metadata": {},
     "output_type": "execute_result"
    }
   ],
   "source": [
    "test = pd.get_dummies(test, columns = object_columns, drop_first = True)\n",
    "test.shape"
   ]
  },
  {
   "cell_type": "markdown",
   "metadata": {},
   "source": [
    "There are mismatched columns after one hot encoding. This is due to some categories in a column may exist in one dataframe but not the other. For example for Train dataset Garage Finish Column, all 4 categories are present, as such all 4 categories are one hot encoded. However the same column in Test may only have 3 of the categories, and only these 3 categories are one hot encoded\n",
    "\n",
    "We will check for columns present in one data frame and not in the other, then add the column in with value 0"
   ]
  },
  {
   "cell_type": "code",
   "execution_count": 40,
   "metadata": {},
   "outputs": [
    {
     "name": "stdout",
     "output_type": "stream",
     "text": [
      "(2048, 208)\n",
      "(879, 208)\n"
     ]
    }
   ],
   "source": [
    "train_cols = train.columns\n",
    "test_cols = test.columns\n",
    "\n",
    "for col in train_cols:\n",
    "    if col not in test_cols:\n",
    "        test[col] = 0\n",
    "        test[col] = test[col].astype('uint8')\n",
    "\n",
    "for col in test_cols:\n",
    "    if col not in train_cols:\n",
    "            train[col] = 0\n",
    "            train[col] = train[col].astype('uint8')\n",
    "            \n",
    "print(train.shape)\n",
    "print(test.shape)"
   ]
  },
  {
   "cell_type": "code",
   "execution_count": 41,
   "metadata": {},
   "outputs": [],
   "source": [
    "# dropping sale price from test as it should not be there\n",
    "test.drop('SalePrice', axis = 1, inplace = True) "
   ]
  },
  {
   "cell_type": "markdown",
   "metadata": {},
   "source": [
    "### Integer Columns"
   ]
  },
  {
   "cell_type": "markdown",
   "metadata": {},
   "source": [
    "Now we will look at columns with Integer data type. We will first create a list of the columns and update the list after we have completed looking into the column"
   ]
  },
  {
   "cell_type": "code",
   "execution_count": 42,
   "metadata": {},
   "outputs": [],
   "source": [
    "integer_columns = ['Id', 'PID', 'MS SubClass', 'Lot Area', 'Overall Qual', 'Overall Cond', 'Year Built', 'Year Remod/Add', \n",
    "                   '1st Flr SF', '2nd Flr SF', 'Low Qual Fin SF', 'Gr Liv Area', 'Bsmt Full Bath', 'Bsmt Half Bath', \n",
    "                   'Full Bath', 'Half Bath', 'Bedroom AbvGr', 'Kitchen AbvGr', 'TotRms AbvGrd', 'Fireplaces', 'Garage Yr Blt', \n",
    "                   'Wood Deck SF', 'Open Porch SF', 'Enclosed Porch', '3Ssn Porch', 'Screen Porch', 'Pool Area', 'Misc Val', \n",
    "                   'Mo Sold', 'Yr Sold', 'SalePrice']"
   ]
  },
  {
   "cell_type": "markdown",
   "metadata": {},
   "source": [
    "#### Id, PID, Overall Qual, Sale Price"
   ]
  },
  {
   "cell_type": "markdown",
   "metadata": {},
   "source": [
    "We will first look at the below mentioned columns"
   ]
  },
  {
   "cell_type": "code",
   "execution_count": 43,
   "metadata": {},
   "outputs": [],
   "source": [
    "columns_to_look = ['Id', 'PID', 'Overall Qual', 'Overall Cond', 'SalePrice']"
   ]
  },
  {
   "cell_type": "code",
   "execution_count": 44,
   "metadata": {},
   "outputs": [
    {
     "data": {
      "text/plain": [
       "5     561\n",
       "6     506\n",
       "7     431\n",
       "8     250\n",
       "4     158\n",
       "9      77\n",
       "3      29\n",
       "10     23\n",
       "2       9\n",
       "1       4\n",
       "Name: Overall Qual, dtype: int64"
      ]
     },
     "execution_count": 44,
     "metadata": {},
     "output_type": "execute_result"
    }
   ],
   "source": [
    "train['Overall Qual'].value_counts()"
   ]
  },
  {
   "cell_type": "code",
   "execution_count": 45,
   "metadata": {},
   "outputs": [
    {
     "data": {
      "text/plain": [
       "5    1168\n",
       "6     367\n",
       "7     268\n",
       "8     101\n",
       "4      70\n",
       "3      35\n",
       "9      29\n",
       "2       6\n",
       "1       4\n",
       "Name: Overall Cond, dtype: int64"
      ]
     },
     "execution_count": 45,
     "metadata": {},
     "output_type": "execute_result"
    }
   ],
   "source": [
    "train['Overall Cond'].value_counts()"
   ]
  },
  {
   "cell_type": "markdown",
   "metadata": {},
   "source": [
    "Id, PID and Sale Price was checked at the start of this notebook, we can considered it looked. Overall Qual and Overall Cond are quality columns and of the right data type "
   ]
  },
  {
   "cell_type": "code",
   "execution_count": 46,
   "metadata": {},
   "outputs": [],
   "source": [
    "integer_columns = [x for x in integer_columns if x not in columns_to_look] \n",
    "# update integer columns to track our progress"
   ]
  },
  {
   "cell_type": "markdown",
   "metadata": {},
   "source": [
    "#### Sizes"
   ]
  },
  {
   "cell_type": "markdown",
   "metadata": {},
   "source": [
    "Now we will look at columns showing sizes. Size should be float as sizes should have decimal places if looked into at a greater degree. "
   ]
  },
  {
   "cell_type": "code",
   "execution_count": 47,
   "metadata": {},
   "outputs": [],
   "source": [
    "columns_to_look = ['Lot Area', '1st Flr SF', '2nd Flr SF', 'Low Qual Fin SF', 'Gr Liv Area','Wood Deck SF', 'Open Porch SF', \n",
    "                   'Enclosed Porch', '3Ssn Porch', 'Screen Porch', 'Pool Area']"
   ]
  },
  {
   "cell_type": "code",
   "execution_count": 48,
   "metadata": {},
   "outputs": [],
   "source": [
    "to_type = 'float64'\n",
    "\n",
    "change_dtype(train, columns_to_look, to_type)\n",
    "change_dtype(test, columns_to_look, to_type)\n",
    "integer_columns = [x for x in integer_columns if x not in columns_to_look] # update object columns to track our progress"
   ]
  },
  {
   "cell_type": "markdown",
   "metadata": {},
   "source": [
    "#### Baths"
   ]
  },
  {
   "cell_type": "markdown",
   "metadata": {},
   "source": [
    "Lets look at baths. From Kaggle data dictionary, we are unable to infer much for this columns. They are of the correct data type and we shall keep them as it is for now."
   ]
  },
  {
   "cell_type": "code",
   "execution_count": 49,
   "metadata": {},
   "outputs": [],
   "source": [
    "columns_to_look = ['Bsmt Full Bath', 'Bsmt Half Bath', 'Full Bath', 'Half Bath', 'Electrical', 'Sale Type', 'Functional', 'Central Air']\n",
    "integer_columns = [x for x in integer_columns if x not in columns_to_look] # update object columns to track our progress"
   ]
  },
  {
   "cell_type": "code",
   "execution_count": 50,
   "metadata": {},
   "outputs": [
    {
     "name": "stdout",
     "output_type": "stream",
     "text": [
      "['MS SubClass', 'Year Built', 'Year Remod/Add', 'Bedroom AbvGr', 'Kitchen AbvGr', 'TotRms AbvGrd', 'Fireplaces', 'Garage Yr Blt', 'Misc Val', 'Mo Sold', 'Yr Sold']\n"
     ]
    }
   ],
   "source": [
    "print(integer_columns)"
   ]
  },
  {
   "cell_type": "markdown",
   "metadata": {},
   "source": [
    "#### Dates"
   ]
  },
  {
   "cell_type": "markdown",
   "metadata": {},
   "source": [
    "Now lets look at columns related to dates."
   ]
  },
  {
   "cell_type": "code",
   "execution_count": 51,
   "metadata": {},
   "outputs": [],
   "source": [
    "columns_to_look = ['Year Built', 'Year Remod/Add', 'Garage Yr Blt', 'Mo Sold', 'Yr Sold']"
   ]
  },
  {
   "cell_type": "markdown",
   "metadata": {},
   "source": [
    "From Kaggle Data Dictionary, Year Remod/Add will be the same as construction date if there is no remodelling or additions. We do not know if there will be any correlation towards sale price for now, as such we will keep both columns. Age of property when sold is something which may have more correlation, as such we will create 2 columns, got age of property when sold, and age of property after reconstruction when sold. \n",
    "\n",
    "The same can be said for garage year built, as such we will create a column for garage age when sold\n",
    "\n",
    "Month sold is redundant, we will drop the column."
   ]
  },
  {
   "cell_type": "code",
   "execution_count": 52,
   "metadata": {},
   "outputs": [],
   "source": [
    "train['Age When Sold'] = train['Yr Sold'] - train['Year Built']\n",
    "train['Age After Remodeled When Sold'] = train['Yr Sold'] - train['Year Remod/Add']\n",
    "train['Age Garage When Sold'] = train['Yr Sold'] - train['Garage Yr Blt']\n",
    "\n",
    "test['Age When Sold'] = test['Yr Sold'] - test['Year Built']\n",
    "test['Age After Remodeled When Sold'] = test['Yr Sold'] - test['Year Remod/Add']\n",
    "test['Age Garage When Sold'] = test['Yr Sold'] - test['Garage Yr Blt']"
   ]
  },
  {
   "cell_type": "code",
   "execution_count": 53,
   "metadata": {},
   "outputs": [],
   "source": [
    "train.drop('Mo Sold', axis = 1, inplace = True)\n",
    "test.drop('Mo Sold', axis = 1, inplace = True)\n",
    "integer_columns = [x for x in integer_columns if x not in columns_to_look] # update object columns to track our progress"
   ]
  },
  {
   "cell_type": "code",
   "execution_count": 54,
   "metadata": {},
   "outputs": [
    {
     "name": "stdout",
     "output_type": "stream",
     "text": [
      "['MS SubClass', 'Bedroom AbvGr', 'Kitchen AbvGr', 'TotRms AbvGrd', 'Fireplaces', 'Misc Val']\n"
     ]
    }
   ],
   "source": [
    "print(integer_columns)"
   ]
  },
  {
   "cell_type": "markdown",
   "metadata": {},
   "source": [
    "#### Rooms"
   ]
  },
  {
   "cell_type": "markdown",
   "metadata": {},
   "source": [
    "Lets look at room related columns"
   ]
  },
  {
   "cell_type": "code",
   "execution_count": 55,
   "metadata": {},
   "outputs": [],
   "source": [
    "columns_to_look = ['Bedroom AbvGr', 'TotRms AbvGrd']"
   ]
  },
  {
   "cell_type": "markdown",
   "metadata": {},
   "source": [
    "Bedroom Abv Gr and TotRms Abv Grd which means number of bedroom above grade and total number of rooms above grade from Kaggle's data dictionary.\n",
    "\n",
    "Total rooms above grade will include the number of bedroom above grade, as such we will drop Bedroom Abv Gr column"
   ]
  },
  {
   "cell_type": "code",
   "execution_count": 56,
   "metadata": {},
   "outputs": [],
   "source": [
    "train.drop('Bedroom AbvGr', axis = 1, inplace = True)\n",
    "test.drop('Bedroom AbvGr', axis = 1, inplace = True)\n",
    "integer_columns = [x for x in integer_columns if x not in columns_to_look] # update object columns to track our progress"
   ]
  },
  {
   "cell_type": "code",
   "execution_count": 57,
   "metadata": {},
   "outputs": [
    {
     "name": "stdout",
     "output_type": "stream",
     "text": [
      "(879, 208)\n",
      "(2048, 209)\n"
     ]
    }
   ],
   "source": [
    "print(test.shape)\n",
    "print(train.shape)"
   ]
  },
  {
   "cell_type": "markdown",
   "metadata": {},
   "source": [
    "#### Kitchen, Fireplaces, Misc Val"
   ]
  },
  {
   "cell_type": "markdown",
   "metadata": {},
   "source": [
    "Lets look at Kitchen AbvGr, Fireplaces, Misc Val"
   ]
  },
  {
   "cell_type": "code",
   "execution_count": 58,
   "metadata": {},
   "outputs": [],
   "source": [
    "columns_to_look = ['Kitchen AbvGr', 'Fireplaces', 'Misc Val']"
   ]
  },
  {
   "cell_type": "markdown",
   "metadata": {},
   "source": [
    "Kitchen above grade are the number of kitchen above grade, Fireplaces are the number of fireplaces in the property and Misc Val are the value of miscelleneous features.\n",
    "\n",
    "We shall leave Kitchen AbvGr and Fireplaces as it is, and convert Misc Val to a float as it equates to a monetary value"
   ]
  },
  {
   "cell_type": "code",
   "execution_count": 59,
   "metadata": {},
   "outputs": [],
   "source": [
    "column = ['Misc Val']\n",
    "to_type = 'float64'\n",
    "\n",
    "change_dtype(train, column, to_type)\n",
    "change_dtype(test, column, to_type)\n",
    "integer_columns = [x for x in integer_columns if x not in columns_to_look] # update object columns to track our progress"
   ]
  },
  {
   "cell_type": "markdown",
   "metadata": {},
   "source": [
    "#### MS SubClass"
   ]
  },
  {
   "cell_type": "markdown",
   "metadata": {},
   "source": [
    "Last of the integer column will be to look at MS SubClass"
   ]
  },
  {
   "cell_type": "code",
   "execution_count": 60,
   "metadata": {},
   "outputs": [],
   "source": [
    "columns_to_look = ['MS SubClass']"
   ]
  },
  {
   "cell_type": "markdown",
   "metadata": {},
   "source": [
    "From Kaggle's data dictionary, MA SubClass identifies the type of dwelling involved in the sale. This in my opinion is a variable which will have impact on the sale price. \n",
    "\n",
    "We shall convert them into a string wth meaningful value, then perform a one hot encoding. After performing one hot encoding, we will compare the columns to ensure that all columns are the same"
   ]
  },
  {
   "cell_type": "code",
   "execution_count": 61,
   "metadata": {},
   "outputs": [],
   "source": [
    "dictionary = {20 : '1-STORY 1946 & NEWER ALL STYLES',\n",
    "              30 : '1-STORY 1945 & OLDER',\n",
    "             40 : '1-STORY W/FINISHED ATTIC ALL AGES',\n",
    "             45 : '1-1/2 STORY - UNFINISHED ALL AGES',\n",
    "              50 : '1-1/2 STORY FINISHED ALL AGES',\n",
    "             60 : '2-STORY 1946 & NEWER',\n",
    "             70 : '2-STORY 1945 & OLDER',\n",
    "             75 : '2-1/2 STORY ALL AGES',\n",
    "             80 : 'SPLIT OR MULTI-LEVEL',\n",
    "             85 : 'SPLIT FOYER',\n",
    "             90 : 'DUPLEX - ALL STYLES AND AGES',\n",
    "             120 : '1-STORY PUD (Planned Unit Development) - 1946 & NEWER',\n",
    "             150 : '1-1/2 STORY PUD - ALL AGES',\n",
    "             160 : '2-STORY PUD - 1946 & NEWER',\n",
    "             180 : 'PUD - MULTILEVEL - INCL SPLIT LEV/FOYER',\n",
    "             190 : '2 FAMILY CONVERSION - ALL STYLES AND AGES'}\n",
    "\n",
    "train['MS SubClass'].replace(dictionary, inplace = True)\n",
    "test['MS SubClass'].replace(dictionary, inplace = True)"
   ]
  },
  {
   "cell_type": "code",
   "execution_count": 62,
   "metadata": {},
   "outputs": [
    {
     "name": "stdout",
     "output_type": "stream",
     "text": [
      "(2048, 223)\n",
      "(879, 223)\n"
     ]
    }
   ],
   "source": [
    "train = pd.get_dummies(train, columns = ['MS SubClass'], drop_first = True)\n",
    "test = pd.get_dummies(test, columns = ['MS SubClass'], drop_first = True)\n",
    "\n",
    "train_cols = train.columns\n",
    "test_cols = test.columns\n",
    "\n",
    "for col in train_cols:\n",
    "    if col not in test_cols:\n",
    "        test[col] = 0\n",
    "        test[col] = test[col].astype('uint8')\n",
    "\n",
    "for col in test_cols:\n",
    "    if col not in train_cols:\n",
    "            train[col] = 0\n",
    "            train[col] = train[col].astype('uint8')\n",
    "            \n",
    "print(train.shape)\n",
    "print(test.shape)"
   ]
  },
  {
   "cell_type": "code",
   "execution_count": 63,
   "metadata": {},
   "outputs": [],
   "source": [
    "test.drop('SalePrice', axis = 1, inplace = True) # dropping sale price from test as it should not be there\n",
    "integer_columns = [x for x in integer_columns if x not in columns_to_look] # update object columns to track our progress"
   ]
  },
  {
   "cell_type": "markdown",
   "metadata": {},
   "source": [
    "We should have completed looking at all integer columns. Lets confirm "
   ]
  },
  {
   "cell_type": "code",
   "execution_count": 64,
   "metadata": {},
   "outputs": [
    {
     "data": {
      "text/plain": [
       "[]"
      ]
     },
     "execution_count": 64,
     "metadata": {},
     "output_type": "execute_result"
    }
   ],
   "source": [
    "integer_columns"
   ]
  },
  {
   "cell_type": "markdown",
   "metadata": {},
   "source": [
    "## Final Check and Saving Data Frame"
   ]
  },
  {
   "cell_type": "markdown",
   "metadata": {},
   "source": [
    "After cleaning all the data, lets make a final check to confirm that we have the same number of columns and data type for each dataframes and save them into another file "
   ]
  },
  {
   "cell_type": "code",
   "execution_count": 65,
   "metadata": {},
   "outputs": [
    {
     "name": "stdout",
     "output_type": "stream",
     "text": [
      "<class 'pandas.core.frame.DataFrame'>\n",
      "RangeIndex: 2048 entries, 0 to 2047\n",
      "Columns: 223 entries, Id to MS SubClass_SPLIT OR MULTI-LEVEL\n",
      "dtypes: float64(20), int64(39), uint8(164)\n",
      "memory usage: 1.2 MB\n"
     ]
    }
   ],
   "source": [
    "train.info()"
   ]
  },
  {
   "cell_type": "code",
   "execution_count": 66,
   "metadata": {},
   "outputs": [
    {
     "name": "stdout",
     "output_type": "stream",
     "text": [
      "<class 'pandas.core.frame.DataFrame'>\n",
      "RangeIndex: 879 entries, 0 to 878\n",
      "Columns: 222 entries, Id to MS SubClass_1-1/2 STORY PUD - ALL AGES\n",
      "dtypes: float64(20), int64(38), uint8(164)\n",
      "memory usage: 539.2 KB\n"
     ]
    }
   ],
   "source": [
    "test.info()"
   ]
  },
  {
   "cell_type": "markdown",
   "metadata": {},
   "source": [
    "Everything seems good, train has one more int64 column which is price, something which should not be in test. The number of data types is the same for both data frames. We shall save the dataframes as another csv after the first iteration of feature engineering and continue with more eda, feature engineering and feature selection in the next phase"
   ]
  },
  {
   "cell_type": "code",
   "execution_count": 67,
   "metadata": {},
   "outputs": [],
   "source": [
    "train.to_csv('../datasets/train_featured.csv', index=False)\n",
    "test.to_csv('../datasets/test_featured.csv', index=False)"
   ]
  }
 ],
 "metadata": {
  "kernelspec": {
   "display_name": "Python 3",
   "language": "python",
   "name": "python3"
  },
  "language_info": {
   "codemirror_mode": {
    "name": "ipython",
    "version": 3
   },
   "file_extension": ".py",
   "mimetype": "text/x-python",
   "name": "python",
   "nbconvert_exporter": "python",
   "pygments_lexer": "ipython3",
   "version": "3.6.4"
  }
 },
 "nbformat": 4,
 "nbformat_minor": 2
}
