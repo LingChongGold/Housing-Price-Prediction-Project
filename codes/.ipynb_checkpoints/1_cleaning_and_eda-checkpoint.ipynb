{
 "cells": [
  {
   "cell_type": "markdown",
   "metadata": {},
   "source": [
    "# Project 2: Prediction of Sale Price"
   ]
  },
  {
   "cell_type": "markdown",
   "metadata": {},
   "source": [
    "In this project, we were provided the Ames Housing dataset and tasked to create a model to predict the sale price via the regression technique. The objective of the project is to perform iterative improvements to the model to achieve a better prediction result. \n",
    "\n",
    "The project is split into 5 notebooks:\n",
    "- First notebook is cleaning of data\n",
    "- Second Notebook is Exploratory Data Analysis and Feature Engineering\n",
    "- Third Notebook is of feature engineering and modelling\n",
    "- Fourth Notebook is second iteration of feature engineering to improve the model\n",
    "- Fifth Notebook is third iteration of of feature engineering to improve the model"
   ]
  },
  {
   "cell_type": "markdown",
   "metadata": {},
   "source": [
    "## Problem Statement"
   ]
  },
  {
   "cell_type": "markdown",
   "metadata": {},
   "source": [
    "From the Ames Housing dataset, create a model to predict the sale price and perform improvements to the model after it is created"
   ]
  },
  {
   "cell_type": "markdown",
   "metadata": {},
   "source": [
    "## Executive Summary"
   ]
  },
  {
   "cell_type": "markdown",
   "metadata": {},
   "source": [
    "The Ames Housing dataset consists of 81 features and 2051 rows. Included in the features are various characteristics of the property that was sold and their respective sale price.\n",
    "\n",
    "In this project, an agile methodology was adopted, for 3 iterations. We performed cleaning to the dataset, performed exploratory data analysis, feature engineering and create a model to predict the sale price of the test data set which we do not know the price.\n",
    "\n",
    "After the data is cleaned, exploratory data analysis was performed through the dataset and also Kaggle's data dictionary to determine the best way to fill up missing values and determine which rows or features should be dropped.\n",
    "\n",
    "The first model was created, selecting the top features which has the highest correlation with the sale price of the test dataset was predicted. From the first iteration, we are able to determine which features are highly correlated to the sale price and thus able to streamline the features to be utilised. \n",
    "\n",
    "In the second iteration, cleaning was performed again, and interaction features was manually created based on understnding of how similar features of the property can be grouped together as interaction. A correlation heatmap was plotted and a total of 10 features which has the highest correlation to sale price was selected. The model was fitted with Ridge and the sale price was predicted and submitted to Kaggle. The public score from Kaggle's submission is 31,989.\n",
    "\n",
    "In the third iteration, Polynomial Features was performed on the 10 features and a heatmap was plotted again. A total of 4 features was selected and fitted with Ridge. The sale price was predicted and submitted to Kaggle. The public score from Kaggle's submission is 27,790  \n",
    "\n",
    "### Contents:\n",
    "- [Import Library](#Import-Library)\n",
    "- [Import Data Set](#Import-and-Looking-at-Dataset)\n",
    "- [Check for Null Values](#Check-for-Null-Values)\n",
    "- [Filling Up of Null Values](#Filling-Up-Null-Values)\n",
    "- [Check Data Types in Train and Test](#Check-Data-Types-in-Train-and-Test)\n",
    "- [Cleaning Complete and Save File](#Cleaning-Complete-and-Save-File)"
   ]
  },
  {
   "cell_type": "markdown",
   "metadata": {},
   "source": [
    "## Import Library"
   ]
  },
  {
   "cell_type": "code",
   "execution_count": 1,
   "metadata": {},
   "outputs": [],
   "source": [
    "#importing libraries\n",
    "\n",
    "import pandas as pd\n",
    "import numpy as np\n",
    "import scipy.stats as stats\n",
    "\n",
    "import matplotlib.pyplot as plt\n",
    "import seaborn as sns\n",
    "\n",
    "from scipy.stats import norm\n",
    "\n",
    "%matplotlib inline"
   ]
  },
  {
   "cell_type": "markdown",
   "metadata": {},
   "source": [
    "## Import and Looking at Dataset"
   ]
  },
  {
   "cell_type": "code",
   "execution_count": 2,
   "metadata": {},
   "outputs": [
    {
     "data": {
      "text/plain": [
       "(2051, 81)"
      ]
     },
     "execution_count": 2,
     "metadata": {},
     "output_type": "execute_result"
    }
   ],
   "source": [
    "train = pd.read_csv('../datasets/train.csv')\n",
    "train.shape"
   ]
  },
  {
   "cell_type": "code",
   "execution_count": 3,
   "metadata": {},
   "outputs": [
    {
     "data": {
      "text/plain": [
       "(879, 80)"
      ]
     },
     "execution_count": 3,
     "metadata": {},
     "output_type": "execute_result"
    }
   ],
   "source": [
    "test = pd.read_csv('../datasets/test.csv')\n",
    "test.shape"
   ]
  },
  {
   "cell_type": "code",
   "execution_count": 4,
   "metadata": {},
   "outputs": [
    {
     "name": "stdout",
     "output_type": "stream",
     "text": [
      "train has SalePrice that is not in test\n"
     ]
    }
   ],
   "source": [
    "i = train.columns\n",
    "j = test.columns\n",
    "\n",
    "for compare in i:\n",
    "    if compare not in j:\n",
    "        print('train has {} that is not in test'.format(compare))"
   ]
  },
  {
   "cell_type": "code",
   "execution_count": 5,
   "metadata": {},
   "outputs": [
    {
     "data": {
      "text/plain": [
       "set()"
      ]
     },
     "execution_count": 5,
     "metadata": {},
     "output_type": "execute_result"
    }
   ],
   "source": [
    "set(test.columns) - set(train.columns)"
   ]
  },
  {
   "cell_type": "markdown",
   "metadata": {},
   "source": [
    "Notice that train has one more column compared to test\n",
    "\n",
    "- Train has one more column SalePrice which is not in test, the rest of the columns are the same\n",
    "- All columns in test are also present in train\n",
    "- Using 2 different methods for learning purpose"
   ]
  },
  {
   "cell_type": "markdown",
   "metadata": {},
   "source": [
    "## Check for Null Values"
   ]
  },
  {
   "cell_type": "code",
   "execution_count": 6,
   "metadata": {},
   "outputs": [],
   "source": [
    "# create a function to list the null values in data frame\n",
    "\n",
    "def check_null_shape(dataframe):\n",
    "    for i in dataframe.columns:\n",
    "        if dataframe[i].isnull().sum() > 0:\n",
    "            print('{} has {} null values'.format (i, dataframe[i].isnull().sum()))\n",
    "    print('Shape is {}'.format(dataframe.shape))"
   ]
  },
  {
   "cell_type": "code",
   "execution_count": 7,
   "metadata": {},
   "outputs": [
    {
     "name": "stdout",
     "output_type": "stream",
     "text": [
      "Lot Frontage has 330 null values\n",
      "Alley has 1911 null values\n",
      "Mas Vnr Type has 22 null values\n",
      "Mas Vnr Area has 22 null values\n",
      "Bsmt Qual has 55 null values\n",
      "Bsmt Cond has 55 null values\n",
      "Bsmt Exposure has 58 null values\n",
      "BsmtFin Type 1 has 55 null values\n",
      "BsmtFin SF 1 has 1 null values\n",
      "BsmtFin Type 2 has 56 null values\n",
      "BsmtFin SF 2 has 1 null values\n",
      "Bsmt Unf SF has 1 null values\n",
      "Total Bsmt SF has 1 null values\n",
      "Bsmt Full Bath has 2 null values\n",
      "Bsmt Half Bath has 2 null values\n",
      "Fireplace Qu has 1000 null values\n",
      "Garage Type has 113 null values\n",
      "Garage Yr Blt has 114 null values\n",
      "Garage Finish has 114 null values\n",
      "Garage Cars has 1 null values\n",
      "Garage Area has 1 null values\n",
      "Garage Qual has 114 null values\n",
      "Garage Cond has 114 null values\n",
      "Pool QC has 2042 null values\n",
      "Fence has 1651 null values\n",
      "Misc Feature has 1986 null values\n",
      "Shape is (2051, 81)\n"
     ]
    }
   ],
   "source": [
    "check_null_shape(train)"
   ]
  },
  {
   "cell_type": "code",
   "execution_count": 8,
   "metadata": {},
   "outputs": [
    {
     "name": "stdout",
     "output_type": "stream",
     "text": [
      "Lot Frontage has 160 null values\n",
      "Alley has 821 null values\n",
      "Mas Vnr Type has 1 null values\n",
      "Mas Vnr Area has 1 null values\n",
      "Bsmt Qual has 25 null values\n",
      "Bsmt Cond has 25 null values\n",
      "Bsmt Exposure has 25 null values\n",
      "BsmtFin Type 1 has 25 null values\n",
      "BsmtFin Type 2 has 25 null values\n",
      "Electrical has 1 null values\n",
      "Fireplace Qu has 422 null values\n",
      "Garage Type has 44 null values\n",
      "Garage Yr Blt has 45 null values\n",
      "Garage Finish has 45 null values\n",
      "Garage Qual has 45 null values\n",
      "Garage Cond has 45 null values\n",
      "Pool QC has 875 null values\n",
      "Fence has 707 null values\n",
      "Misc Feature has 838 null values\n",
      "Shape is (879, 80)\n"
     ]
    }
   ],
   "source": [
    "check_null_shape(test)"
   ]
  },
  {
   "cell_type": "markdown",
   "metadata": {},
   "source": [
    "From the above, we can see the following:\n",
    "- Common columns with null values are \n",
    "    - ['Alley', 'Bsmt Cond', 'Bsmt Exposure', 'Bsmt Qual', 'BsmtFin Type 1', 'BsmtFin Type 2', 'Fence', 'Fireplace Qu', 'Garage Cond', 'Garage Finish', 'Garage Qual', 'Garage Type', 'Garage Yr Blt', 'Lot Frontage', 'Mas Vnr Area', 'Mas Vnr Type', 'Misc Feature', 'Pool QC']\n",
    "- Columns in train with null values but no null values in test\n",
    "    - ['Bsmt Full Bath', 'Bsmt Half Bath', 'Bsmt Unf SF', 'BsmtFin SF 1', 'BsmtFin SF 2', 'Garage Area', 'Garage Cars', 'Total Bsmt SF']\n",
    "- Columns in test with null values but no null values in train\n",
    "    - ['Electrical']"
   ]
  },
  {
   "cell_type": "markdown",
   "metadata": {},
   "source": [
    "## Filling Up Null Values"
   ]
  },
  {
   "cell_type": "markdown",
   "metadata": {},
   "source": [
    "As we will be filling up quite a bit of null values, we shall create a function for this purpose"
   ]
  },
  {
   "cell_type": "code",
   "execution_count": 9,
   "metadata": {},
   "outputs": [],
   "source": [
    "# function fill categorial columns with desired value\n",
    "\n",
    "def fill_categorial(dataframe, list_columns, fill_with):\n",
    "    for i in list_columns:\n",
    "        dataframe[i].fillna(fill_with, inplace = True)"
   ]
  },
  {
   "cell_type": "markdown",
   "metadata": {},
   "source": [
    "### Null Value to Column Exclusive to Test"
   ]
  },
  {
   "cell_type": "code",
   "execution_count": 10,
   "metadata": {},
   "outputs": [
    {
     "data": {
      "text/plain": [
       "SBrkr    814\n",
       "FuseA     48\n",
       "FuseF     15\n",
       "FuseP      1\n",
       "Name: Electrical, dtype: int64"
      ]
     },
     "execution_count": 10,
     "metadata": {},
     "output_type": "execute_result"
    }
   ],
   "source": [
    "test['Electrical'].value_counts()"
   ]
  },
  {
   "cell_type": "markdown",
   "metadata": {},
   "source": [
    "We see that this is a discrete column, and its mode is SBrkr. We will fill the null value with the mode of the column."
   ]
  },
  {
   "cell_type": "code",
   "execution_count": 11,
   "metadata": {},
   "outputs": [],
   "source": [
    "list_columns = ['Electrical']\n",
    "fill_with = 'SBrkr'\n",
    "fill_categorial(test, list_columns, fill_with)"
   ]
  },
  {
   "cell_type": "markdown",
   "metadata": {},
   "source": [
    "### Null Value in Columns Exclusive to Train"
   ]
  },
  {
   "cell_type": "markdown",
   "metadata": {},
   "source": [
    "The number of null values in exclusive columns of train is negligible, they fall between the range of 1 or 2. It is decided that these rows will be dropped as we will still have two thousand plus data left after dropping them."
   ]
  },
  {
   "cell_type": "code",
   "execution_count": 12,
   "metadata": {},
   "outputs": [],
   "source": [
    "# Drop rows with null values for columns that have null in train and not in test\n",
    "\n",
    "null_column_train = ['Bsmt Full Bath', 'Bsmt Half Bath', 'Bsmt Unf SF', 'BsmtFin SF 1', 'BsmtFin SF 2', 'Garage Area', 'Garage Cars', 'Total Bsmt SF']\n",
    "# list of columns with null values exclusive to train or test only\n",
    "\n",
    "for i in null_column_train:\n",
    "    train =  train.dropna(axis = 0, subset = [i])    "
   ]
  },
  {
   "cell_type": "markdown",
   "metadata": {},
   "source": [
    "### Null Value in Columns Common in Train and Test"
   ]
  },
  {
   "cell_type": "markdown",
   "metadata": {},
   "source": [
    "Now we look at common columns of both data frames with null values, their data types and also possible values"
   ]
  },
  {
   "cell_type": "code",
   "execution_count": 13,
   "metadata": {},
   "outputs": [
    {
     "name": "stdout",
     "output_type": "stream",
     "text": [
      "Alley \n",
      " Grvl    85\n",
      "Pave    55\n",
      "Name: Alley, dtype: int64\n",
      "\n",
      "Bsmt Cond \n",
      " TA    1833\n",
      "Gd      89\n",
      "Fa      65\n",
      "Po       5\n",
      "Ex       3\n",
      "Name: Bsmt Cond, dtype: int64\n",
      "\n",
      "Bsmt Exposure \n",
      " No    1338\n",
      "Av     288\n",
      "Gd     203\n",
      "Mn     163\n",
      "Name: Bsmt Exposure, dtype: int64\n",
      "\n",
      "Bsmt Qual \n",
      " TA    887\n",
      "Gd    863\n",
      "Ex    184\n",
      "Fa     60\n",
      "Po      1\n",
      "Name: Bsmt Qual, dtype: int64\n",
      "\n",
      "BsmtFin Type 1 \n",
      " GLQ    615\n",
      "Unf    603\n",
      "ALQ    292\n",
      "BLQ    200\n",
      "Rec    183\n",
      "LwQ    102\n",
      "Name: BsmtFin Type 1, dtype: int64\n",
      "\n",
      "BsmtFin Type 2 \n",
      " Unf    1748\n",
      "Rec      80\n",
      "LwQ      60\n",
      "BLQ      48\n",
      "ALQ      35\n",
      "GLQ      23\n",
      "Name: BsmtFin Type 2, dtype: int64\n",
      "\n",
      "Fence \n",
      " MnPrv    225\n",
      "GdPrv     83\n",
      "GdWo      80\n",
      "MnWw      10\n",
      "Name: Fence, dtype: int64\n",
      "\n",
      "Fireplace Qu \n",
      " Gd    522\n",
      "TA    407\n",
      "Fa     59\n",
      "Ex     31\n",
      "Po     31\n",
      "Name: Fireplace Qu, dtype: int64\n",
      "\n",
      "Garage Cond \n",
      " TA    1866\n",
      "Fa      47\n",
      "Gd      12\n",
      "Po       8\n",
      "Ex       2\n",
      "Name: Garage Cond, dtype: int64\n",
      "\n",
      "Garage Finish \n",
      " Unf    847\n",
      "RFn    579\n",
      "Fin    509\n",
      "Name: Garage Finish, dtype: int64\n",
      "\n",
      "Garage Qual \n",
      " TA    1830\n",
      "Fa      82\n",
      "Gd      18\n",
      "Ex       3\n",
      "Po       2\n",
      "Name: Garage Qual, dtype: int64\n",
      "\n",
      "Garage Type \n",
      " Attchd     1212\n",
      "Detchd      534\n",
      "BuiltIn     132\n",
      "Basment      27\n",
      "2Types       19\n",
      "CarPort      11\n",
      "Name: Garage Type, dtype: int64\n",
      "\n",
      "Garage Yr Blt \n",
      " 2005.0    105\n",
      "2007.0     84\n",
      "2006.0     80\n",
      "2004.0     72\n",
      "2003.0     66\n",
      "         ... \n",
      "1917.0      1\n",
      "1918.0      1\n",
      "1919.0      1\n",
      "1895.0      1\n",
      "1896.0      1\n",
      "Name: Garage Yr Blt, Length: 100, dtype: int64\n",
      "\n",
      "Lot Frontage \n",
      " 60.0     179\n",
      "70.0      96\n",
      "80.0      94\n",
      "50.0      89\n",
      "65.0      71\n",
      "        ... \n",
      "141.0      1\n",
      "135.0      1\n",
      "137.0      1\n",
      "33.0       1\n",
      "119.0      1\n",
      "Name: Lot Frontage, Length: 117, dtype: int64\n",
      "\n",
      "Mas Vnr Area \n",
      " 0.0       1213\n",
      "120.0       11\n",
      "176.0       10\n",
      "200.0       10\n",
      "180.0        9\n",
      "          ... \n",
      "361.0        1\n",
      "121.0        1\n",
      "156.0        1\n",
      "66.0         1\n",
      "1031.0       1\n",
      "Name: Mas Vnr Area, Length: 373, dtype: int64\n",
      "\n",
      "Mas Vnr Type \n",
      " None       1215\n",
      "BrkFace     630\n",
      "Stone       168\n",
      "BrkCmn       13\n",
      "Name: Mas Vnr Type, dtype: int64\n",
      "\n",
      "Misc Feature \n",
      " Shed    56\n",
      "Gar2     4\n",
      "Othr     3\n",
      "Elev     1\n",
      "TenC     1\n",
      "Name: Misc Feature, dtype: int64\n",
      "\n",
      "Pool QC \n",
      " Gd    4\n",
      "Fa    2\n",
      "TA    2\n",
      "Ex    1\n",
      "Name: Pool QC, dtype: int64\n",
      "\n"
     ]
    }
   ],
   "source": [
    "# Print out common columns data type and category with nulls in both train and test to determine how to fill them\n",
    "\n",
    "common_null = ['Alley', 'Bsmt Cond', 'Bsmt Exposure', 'Bsmt Qual', 'BsmtFin Type 1', 'BsmtFin Type 2', 'Fence', 'Fireplace Qu',\n",
    "               'Garage Cond', 'Garage Finish', 'Garage Qual', 'Garage Type', 'Garage Yr Blt', 'Lot Frontage', 'Mas Vnr Area', \n",
    "               'Mas Vnr Type', 'Misc Feature', 'Pool QC']\n",
    "# list of common columns with null values in both train and test sets\n",
    "\n",
    "for i in common_null:\n",
    "    print(i, '\\n' ,train[i].value_counts())\n",
    "    print('')"
   ]
  },
  {
   "cell_type": "markdown",
   "metadata": {},
   "source": [
    "#### Garage"
   ]
  },
  {
   "cell_type": "markdown",
   "metadata": {},
   "source": [
    "We will look at garage first\n",
    "- All of them are discrete except for Garage Yr Blt\n",
    "    - Looking through Kaggle's data dictionary, there is suppose to be another category, NA which means no garage. This category is not reflected above. We can infer that null values are property with no garage and fill them with None\n",
    "- For garage's year built, since we are taking it that there is no garage, we will fill it with Year Built minus another 1000. There may be a possibility that age will be calculated based on year sold for comparison during the next phase of the project, this ensures that age of garage for properties without garage will always be older then those with garage. Younger garage age may equates to better price"
   ]
  },
  {
   "cell_type": "code",
   "execution_count": 14,
   "metadata": {},
   "outputs": [],
   "source": [
    "garage = ['Garage Cond', 'Garage Finish', 'Garage Qual', 'Garage Type']\n",
    "fill_with = 'None'\n",
    "fill_categorial(train, garage, fill_with)\n",
    "fill_categorial(test, garage, fill_with)"
   ]
  },
  {
   "cell_type": "code",
   "execution_count": 15,
   "metadata": {},
   "outputs": [],
   "source": [
    "# Fill garage years with (year built minus 1000)\n",
    "\n",
    "train['Garage Yr Blt'].fillna((train['Year Built'] - 1000), inplace = True)\n",
    "test['Garage Yr Blt'].fillna((test['Year Built'] - 1000), inplace = True)"
   ]
  },
  {
   "cell_type": "markdown",
   "metadata": {},
   "source": [
    "#### Basement"
   ]
  },
  {
   "cell_type": "markdown",
   "metadata": {},
   "source": [
    "Now we will take a look at Basement:\n",
    "\n",
    "- All of them are discrete\n",
    "- Similar to garage, looking through Kaggle's data dictionary, there is suppose to be another category, NA which means no basement. This category is not reflected in our dataset. We will take it that null values are property with no basement and fill them with None"
   ]
  },
  {
   "cell_type": "code",
   "execution_count": 16,
   "metadata": {},
   "outputs": [],
   "source": [
    "basement = ['Bsmt Cond', 'Bsmt Exposure', 'Bsmt Qual', 'BsmtFin Type 1', 'BsmtFin Type 2']\n",
    "fill_with = 'None'\n",
    "fill_categorial(train, basement, fill_with)\n",
    "fill_categorial(test, basement, fill_with)"
   ]
  },
  {
   "cell_type": "markdown",
   "metadata": {},
   "source": [
    "#### Masonry Veneer"
   ]
  },
  {
   "cell_type": "markdown",
   "metadata": {},
   "source": [
    "Now we will look at Mas Vnr which means Masonry Veneer"
   ]
  },
  {
   "cell_type": "code",
   "execution_count": 17,
   "metadata": {},
   "outputs": [],
   "source": [
    "# define a function to draw a distplot\n",
    "\n",
    "def draw_distplot(dataframe, column, ylabel = 'Probability Density Function'):\n",
    "    #plt.hist(dataframe[column])\n",
    "    not_null = dataframe[dataframe[column].notnull()] # get only not null for the column\n",
    "    sns.distplot(not_null[column], kde = True, fit = norm)\n",
    "    mean = dataframe[column].mean()\n",
    "    plt.axvline(mean, color = 'r')\n",
    "    plt.title('{} Distribution'.format(column))\n",
    "    plt.xlabel(column)\n",
    "    plt.ylabel(ylabel)"
   ]
  },
  {
   "cell_type": "code",
   "execution_count": 18,
   "metadata": {},
   "outputs": [
    {
     "data": {
      "image/png": "[encoded data removed]",
      "text/plain": [
       "<Figure size 432x288 with 1 Axes>"
      ]
     },
     "metadata": {
      "needs_background": "light"
     },
     "output_type": "display_data"
    }
   ],
   "source": [
    "draw_distplot(train, 'Mas Vnr Area')"
   ]
  },
  {
   "cell_type": "code",
   "execution_count": 19,
   "metadata": {},
   "outputs": [
    {
     "data": {
      "image/png": "[encoded data removed]",
      "text/plain": [
       "<Figure size 432x288 with 1 Axes>"
      ]
     },
     "metadata": {
      "needs_background": "light"
     },
     "output_type": "display_data"
    }
   ],
   "source": [
    "draw_distplot(test, 'Mas Vnr Area')"
   ]
  },
  {
   "cell_type": "markdown",
   "metadata": {},
   "source": [
    "We can be seen that the distribution of Mas Vnr Area for both train and test is heavily right skewed, with 0.0 having the highest probability density function. As such we will fill the null values for the column with the mode"
   ]
  },
  {
   "cell_type": "code",
   "execution_count": 20,
   "metadata": {},
   "outputs": [],
   "source": [
    "fill_with = float(train['Mas Vnr Area'].mode())\n",
    "column = ['Mas Vnr Area']\n",
    "#fill_with = mas_vnr_area_mode\n",
    "\n",
    "fill_categorial(train, column, fill_with)\n",
    "fill_categorial(test, column, fill_with)\n",
    "# train['Mas Vnr Area'].fillna(float(mas_vnr_area_mode), inplace = True)\n",
    "# test['Mas Vnr Area'].fillna(float(mas_vnr_area_mode), inplace = True)"
   ]
  },
  {
   "cell_type": "markdown",
   "metadata": {},
   "source": [
    "Now we will look at Mas Vnr Type"
   ]
  },
  {
   "cell_type": "code",
   "execution_count": 21,
   "metadata": {},
   "outputs": [
    {
     "data": {
      "text/plain": [
       "None       1215\n",
       "BrkFace     630\n",
       "Stone       168\n",
       "BrkCmn       13\n",
       "Name: Mas Vnr Type, dtype: int64"
      ]
     },
     "execution_count": 21,
     "metadata": {},
     "output_type": "execute_result"
    }
   ],
   "source": [
    "train['Mas Vnr Type'].value_counts()"
   ]
  },
  {
   "cell_type": "code",
   "execution_count": 22,
   "metadata": {},
   "outputs": [
    {
     "data": {
      "text/plain": [
       "None       534\n",
       "BrkFace    250\n",
       "Stone       81\n",
       "BrkCmn      12\n",
       "CBlock       1\n",
       "Name: Mas Vnr Type, dtype: int64"
      ]
     },
     "execution_count": 22,
     "metadata": {},
     "output_type": "execute_result"
    }
   ],
   "source": [
    "test['Mas Vnr Type'].value_counts()"
   ]
  },
  {
   "cell_type": "markdown",
   "metadata": {},
   "source": [
    "Mas Vnr Type is discrete, we will fill this with the the most frequently observed value for the column, None. \n",
    "Which is the same for both Test and Train"
   ]
  },
  {
   "cell_type": "code",
   "execution_count": 23,
   "metadata": {},
   "outputs": [],
   "source": [
    "fill_with = 'None'\n",
    "column = ['Mas Vnr Type']\n",
    "#fill_with = mas_vnr_area_mode\n",
    "\n",
    "fill_categorial(train, column, fill_with)\n",
    "fill_categorial(test, column, fill_with)"
   ]
  },
  {
   "cell_type": "markdown",
   "metadata": {},
   "source": [
    "#### Lot Frontage"
   ]
  },
  {
   "cell_type": "markdown",
   "metadata": {},
   "source": [
    "Let's look at Lot Frontage which the linear feet of street connected to property as described in Kaggle's data dictionary"
   ]
  },
  {
   "cell_type": "code",
   "execution_count": 24,
   "metadata": {},
   "outputs": [
    {
     "data": {
      "image/png": "[encoded data removed]",
      "text/plain": [
       "<Figure size 432x288 with 1 Axes>"
      ]
     },
     "metadata": {
      "needs_background": "light"
     },
     "output_type": "display_data"
    }
   ],
   "source": [
    "draw_distplot(train, 'Lot Frontage')"
   ]
  },
  {
   "cell_type": "code",
   "execution_count": 25,
   "metadata": {},
   "outputs": [
    {
     "data": {
      "image/png": "[encoded data removed]",
      "text/plain": [
       "<Figure size 432x288 with 1 Axes>"
      ]
     },
     "metadata": {
      "needs_background": "light"
     },
     "output_type": "display_data"
    }
   ],
   "source": [
    "draw_distplot(test, 'Lot Frontage')"
   ]
  },
  {
   "cell_type": "markdown",
   "metadata": {},
   "source": [
    "We can see from the data that Lot Frontage is slightly skewed and have some outliers, it can be considered somehow normally distriuted and most of the observations are at the mean. We shall fill null values with the mean"
   ]
  },
  {
   "cell_type": "code",
   "execution_count": 26,
   "metadata": {},
   "outputs": [],
   "source": [
    "fill_with = train['Lot Frontage'].mean()\n",
    "column = ['Lot Frontage']\n",
    "#fill_with = mas_vnr_area_mode\n",
    "\n",
    "fill_categorial(train, column, fill_with)\n",
    "fill_categorial(test, column, fill_with)"
   ]
  },
  {
   "cell_type": "markdown",
   "metadata": {},
   "source": [
    "#### Alley"
   ]
  },
  {
   "cell_type": "markdown",
   "metadata": {},
   "source": [
    "Now we will take a look at Alley, which from Kaggle's data dictionary means Type of alley access to property, a categorical value"
   ]
  },
  {
   "cell_type": "code",
   "execution_count": 27,
   "metadata": {},
   "outputs": [
    {
     "data": {
      "text/plain": [
       "Grvl    85\n",
       "Pave    55\n",
       "Name: Alley, dtype: int64"
      ]
     },
     "execution_count": 27,
     "metadata": {},
     "output_type": "execute_result"
    }
   ],
   "source": [
    "train['Alley'].value_counts()"
   ]
  },
  {
   "cell_type": "code",
   "execution_count": 28,
   "metadata": {},
   "outputs": [
    {
     "data": {
      "text/plain": [
       "Grvl    35\n",
       "Pave    23\n",
       "Name: Alley, dtype: int64"
      ]
     },
     "execution_count": 28,
     "metadata": {},
     "output_type": "execute_result"
    }
   ],
   "source": [
    "test['Alley'].value_counts()"
   ]
  },
  {
   "cell_type": "markdown",
   "metadata": {},
   "source": [
    "As we there are no a clear distinct mode for the category, we will fill null values for Alley with another category, None which will mean unknown"
   ]
  },
  {
   "cell_type": "code",
   "execution_count": 29,
   "metadata": {},
   "outputs": [],
   "source": [
    "column = ['Alley']\n",
    "fill_with = 'None'\n",
    "\n",
    "fill_categorial(train, column, fill_with)\n",
    "fill_categorial(test, column, fill_with)"
   ]
  },
  {
   "cell_type": "markdown",
   "metadata": {},
   "source": [
    "#### Misc Features"
   ]
  },
  {
   "cell_type": "markdown",
   "metadata": {},
   "source": [
    "Now, we will look at Misc Features which means miscellaneous features not covered in other category "
   ]
  },
  {
   "cell_type": "code",
   "execution_count": 30,
   "metadata": {},
   "outputs": [
    {
     "data": {
      "text/plain": [
       "Shed    56\n",
       "Gar2     4\n",
       "Othr     3\n",
       "Elev     1\n",
       "TenC     1\n",
       "Name: Misc Feature, dtype: int64"
      ]
     },
     "execution_count": 30,
     "metadata": {},
     "output_type": "execute_result"
    }
   ],
   "source": [
    "train['Misc Feature'].value_counts()"
   ]
  },
  {
   "cell_type": "markdown",
   "metadata": {},
   "source": [
    "From Kaggle's data dictionary, there is suppose to be a NA which means none. However, it is not reflected above, we can infer that null values will mean that there are no miscellenous features. As such we will fill the null values with None"
   ]
  },
  {
   "cell_type": "code",
   "execution_count": 31,
   "metadata": {},
   "outputs": [],
   "source": [
    "list_of_columns = ['Misc Feature']\n",
    "fill_with = 'None'\n",
    "fill_categorial(train, list_of_columns, fill_with)\n",
    "fill_categorial(test, list_of_columns, fill_with)"
   ]
  },
  {
   "cell_type": "markdown",
   "metadata": {},
   "source": [
    "#### Fire Place Qu"
   ]
  },
  {
   "cell_type": "markdown",
   "metadata": {},
   "source": [
    "Now let's look at Fireplace Qu which means Fire place quality, a quality variable"
   ]
  },
  {
   "cell_type": "code",
   "execution_count": 32,
   "metadata": {},
   "outputs": [
    {
     "data": {
      "text/plain": [
       "998"
      ]
     },
     "execution_count": 32,
     "metadata": {},
     "output_type": "execute_result"
    }
   ],
   "source": [
    "(train['Fireplaces'] == 0).sum()"
   ]
  },
  {
   "cell_type": "code",
   "execution_count": 33,
   "metadata": {},
   "outputs": [
    {
     "data": {
      "text/plain": [
       "998"
      ]
     },
     "execution_count": 33,
     "metadata": {},
     "output_type": "execute_result"
    }
   ],
   "source": [
    "train['Fireplace Qu'].isnull().sum()"
   ]
  },
  {
   "cell_type": "markdown",
   "metadata": {},
   "source": [
    "When comparing with Fireplaces which shows the number fireplaces in the property, the number of null values in Fireplace Qu is the same as the number of 0 in Fireplaces. This infers that null values for Fireplace Qu are for properties with no fireplaces. As such, we will fill them up with None"
   ]
  },
  {
   "cell_type": "code",
   "execution_count": 34,
   "metadata": {},
   "outputs": [],
   "source": [
    "list_of_columns = ['Fireplace Qu']\n",
    "fill_with = 'None'\n",
    "fill_categorial(train, list_of_columns, fill_with)\n",
    "fill_categorial(test, list_of_columns, fill_with)"
   ]
  },
  {
   "cell_type": "markdown",
   "metadata": {},
   "source": [
    "#### Pool QC"
   ]
  },
  {
   "cell_type": "markdown",
   "metadata": {},
   "source": [
    "Now we will look at Pool QC"
   ]
  },
  {
   "cell_type": "code",
   "execution_count": 35,
   "metadata": {},
   "outputs": [
    {
     "data": {
      "text/plain": [
       "2039"
      ]
     },
     "execution_count": 35,
     "metadata": {},
     "output_type": "execute_result"
    }
   ],
   "source": [
    "train['Pool QC'].isnull().sum()"
   ]
  },
  {
   "cell_type": "code",
   "execution_count": 36,
   "metadata": {},
   "outputs": [
    {
     "data": {
      "text/plain": [
       "2039"
      ]
     },
     "execution_count": 36,
     "metadata": {},
     "output_type": "execute_result"
    }
   ],
   "source": [
    "(train['Pool Area'] == 0).sum()"
   ]
  },
  {
   "cell_type": "markdown",
   "metadata": {},
   "source": [
    "This is the same as Fire Place Qu, we can see that the number of pool area which equals to zero is the same as the number of null values in Pool QC, as such we can infer that null values in Pool QC are for properties without any pool. We shall fill the null values with None"
   ]
  },
  {
   "cell_type": "code",
   "execution_count": 37,
   "metadata": {},
   "outputs": [],
   "source": [
    "list_of_columns = ['Pool QC'] \n",
    "fill_with = 'None'\n",
    "fill_categorial(train, list_of_columns, fill_with)\n",
    "fill_categorial(test, list_of_columns, fill_with)"
   ]
  },
  {
   "cell_type": "markdown",
   "metadata": {},
   "source": [
    "#### Fence"
   ]
  },
  {
   "cell_type": "markdown",
   "metadata": {},
   "source": [
    "Now we will look at Fence which is a categorial category for the quality of fence from Kaggle's dictionary."
   ]
  },
  {
   "cell_type": "code",
   "execution_count": 38,
   "metadata": {},
   "outputs": [
    {
     "data": {
      "text/plain": [
       "1650"
      ]
     },
     "execution_count": 38,
     "metadata": {},
     "output_type": "execute_result"
    }
   ],
   "source": [
    "train['Fence'].isnull().sum()"
   ]
  },
  {
   "cell_type": "code",
   "execution_count": 39,
   "metadata": {},
   "outputs": [
    {
     "data": {
      "text/plain": [
       "MnPrv    225\n",
       "GdPrv     83\n",
       "GdWo      80\n",
       "MnWw      10\n",
       "Name: Fence, dtype: int64"
      ]
     },
     "execution_count": 39,
     "metadata": {},
     "output_type": "execute_result"
    }
   ],
   "source": [
    "train['Fence'].value_counts()"
   ]
  },
  {
   "cell_type": "markdown",
   "metadata": {},
   "source": [
    "From Kaggle's dictionary, there is suppose to be another category NA for properties with no fence, but it is not reflected in our value count. We can infer that null values are for properties with no fence and fill them up with None"
   ]
  },
  {
   "cell_type": "code",
   "execution_count": 40,
   "metadata": {},
   "outputs": [],
   "source": [
    "list_of_columns = ['Fence'] \n",
    "fill_with = 'None'\n",
    "fill_categorial(train, list_of_columns, fill_with)\n",
    "fill_categorial(test, list_of_columns, fill_with)"
   ]
  },
  {
   "cell_type": "markdown",
   "metadata": {},
   "source": [
    "We should have finished filling up all the null values for train and test. Lets check it out to confirm"
   ]
  },
  {
   "cell_type": "code",
   "execution_count": 41,
   "metadata": {},
   "outputs": [
    {
     "name": "stdout",
     "output_type": "stream",
     "text": [
      "Shape is (2048, 81)\n"
     ]
    }
   ],
   "source": [
    "check_null_shape(train)"
   ]
  },
  {
   "cell_type": "code",
   "execution_count": 42,
   "metadata": {},
   "outputs": [
    {
     "name": "stdout",
     "output_type": "stream",
     "text": [
      "Shape is (879, 80)\n"
     ]
    }
   ],
   "source": [
    "check_null_shape(test)"
   ]
  },
  {
   "cell_type": "markdown",
   "metadata": {},
   "source": [
    "### Check Data Types in Train and Test"
   ]
  },
  {
   "cell_type": "markdown",
   "metadata": {},
   "source": [
    "A function was created to retrieve the data types train. We shall then change the data type for test to be the same as train."
   ]
  },
  {
   "cell_type": "code",
   "execution_count": 43,
   "metadata": {},
   "outputs": [],
   "source": [
    "# Function to get data types of columns and print out the list\n",
    "\n",
    "def get_columns_dtype(dataframe):\n",
    "    object_col = []\n",
    "    integer_col = []\n",
    "    float_col = []\n",
    "    \n",
    "    object_type = dataframe.select_dtypes([np.object]).columns\n",
    "    integer_type = dataframe.select_dtypes([np.int64, np.uint8]).columns \n",
    "    float_type = dataframe.select_dtypes([np.float64]).columns\n",
    "    \n",
    "    for object_dtype in object_type:\n",
    "        object_col.append(object_dtype)\n",
    "    \n",
    "    for integer_dtype in integer_type:\n",
    "        integer_col.append(integer_dtype)\n",
    "    \n",
    "    for float_dtype in float_type:\n",
    "        float_col.append(float_dtype)\n",
    "\n",
    "    print('Columns with Object Data Type are: \\n{}'.format(object_col))\n",
    "    print('Total number of object columns are : {}'.format(len(object_col)))\n",
    "    print('')\n",
    "    print('Columns with Integer Data Type are: \\n{}'.format(integer_col))\n",
    "    print('Total number of integer columns are : {}'.format(len(integer_col)))\n",
    "    print('')\n",
    "    print('Columns with Float Data Type are: \\n{}'.format(float_col))\n",
    "    print('Total number of float columns are : {}'.format(len(float_col)))"
   ]
  },
  {
   "cell_type": "code",
   "execution_count": 44,
   "metadata": {},
   "outputs": [
    {
     "name": "stdout",
     "output_type": "stream",
     "text": [
      "Columns with Object Data Type are: \n",
      "['MS Zoning', 'Street', 'Alley', 'Lot Shape', 'Land Contour', 'Utilities', 'Lot Config', 'Land Slope', 'Neighborhood', 'Condition 1', 'Condition 2', 'Bldg Type', 'House Style', 'Roof Style', 'Roof Matl', 'Exterior 1st', 'Exterior 2nd', 'Mas Vnr Type', 'Exter Qual', 'Exter Cond', 'Foundation', 'Bsmt Qual', 'Bsmt Cond', 'Bsmt Exposure', 'BsmtFin Type 1', 'BsmtFin Type 2', 'Heating', 'Heating QC', 'Central Air', 'Electrical', 'Kitchen Qual', 'Functional', 'Fireplace Qu', 'Garage Type', 'Garage Finish', 'Garage Qual', 'Garage Cond', 'Paved Drive', 'Pool QC', 'Fence', 'Misc Feature', 'Sale Type']\n",
      "Total number of object columns are : 42\n",
      "\n",
      "Columns with Integer Data Type are: \n",
      "['Id', 'PID', 'MS SubClass', 'Lot Area', 'Overall Qual', 'Overall Cond', 'Year Built', 'Year Remod/Add', '1st Flr SF', '2nd Flr SF', 'Low Qual Fin SF', 'Gr Liv Area', 'Full Bath', 'Half Bath', 'Bedroom AbvGr', 'Kitchen AbvGr', 'TotRms AbvGrd', 'Fireplaces', 'Wood Deck SF', 'Open Porch SF', 'Enclosed Porch', '3Ssn Porch', 'Screen Porch', 'Pool Area', 'Misc Val', 'Mo Sold', 'Yr Sold', 'SalePrice']\n",
      "Total number of integer columns are : 28\n",
      "\n",
      "Columns with Float Data Type are: \n",
      "['Lot Frontage', 'Mas Vnr Area', 'BsmtFin SF 1', 'BsmtFin SF 2', 'Bsmt Unf SF', 'Total Bsmt SF', 'Bsmt Full Bath', 'Bsmt Half Bath', 'Garage Yr Blt', 'Garage Cars', 'Garage Area']\n",
      "Total number of float columns are : 11\n"
     ]
    }
   ],
   "source": [
    "get_columns_dtype(train)"
   ]
  },
  {
   "cell_type": "code",
   "execution_count": 45,
   "metadata": {},
   "outputs": [],
   "source": [
    "# Function to change the data type\n",
    "\n",
    "def change_dtype(dataframe, columns, to_type):\n",
    "    for i in columns:\n",
    "        dataframe[i] = dataframe[i].astype(to_type)"
   ]
  },
  {
   "cell_type": "markdown",
   "metadata": {},
   "source": [
    "We shall change the data types of Test to be the same as Train"
   ]
  },
  {
   "cell_type": "code",
   "execution_count": 46,
   "metadata": {},
   "outputs": [],
   "source": [
    "columns = ['MS Zoning', 'Street', 'Alley', 'Lot Shape', 'Land Contour', 'Utilities', 'Lot Config', \n",
    "           'Land Slope', 'Neighborhood', 'Condition 1', 'Condition 2', 'Bldg Type', 'House Style', 'Roof Style', \n",
    "           'Roof Matl', 'Exterior 1st', 'Exterior 2nd', 'Mas Vnr Type', 'Exter Qual', 'Exter Cond', 'Foundation', 'Bsmt Qual', \n",
    "           'Bsmt Cond', 'Bsmt Exposure', 'BsmtFin Type 1', 'BsmtFin Type 2', 'Heating', 'Heating QC', 'Central Air', \n",
    "           'Electrical', 'Kitchen Qual', 'Functional', 'Fireplace Qu', 'Garage Type', 'Garage Finish', 'Garage Qual', \n",
    "           'Garage Cond', 'Paved Drive', 'Pool QC', 'Fence', 'Misc Feature', 'Sale Type']\n",
    "to_type = 'str'\n",
    "\n",
    "change_dtype(test, columns, to_type)"
   ]
  },
  {
   "cell_type": "code",
   "execution_count": 47,
   "metadata": {},
   "outputs": [],
   "source": [
    "columns = ['Id', 'PID', 'MS SubClass', 'Lot Area', 'Overall Qual', 'Overall Cond', 'Year Built', 'Year Remod/Add', \n",
    "           '1st Flr SF', '2nd Flr SF', 'Low Qual Fin SF', 'Gr Liv Area', 'Full Bath', 'Half Bath', 'Bedroom AbvGr', \n",
    "           'Kitchen AbvGr', 'TotRms AbvGrd', 'Fireplaces', 'Wood Deck SF', 'Open Porch SF', 'Enclosed Porch', '3Ssn Porch', \n",
    "           'Screen Porch', 'Pool Area', 'Misc Val', 'Mo Sold', 'Yr Sold']\n",
    "\n",
    "to_type = 'int64'\n",
    "\n",
    "change_dtype(test, columns, to_type)"
   ]
  },
  {
   "cell_type": "code",
   "execution_count": 48,
   "metadata": {},
   "outputs": [],
   "source": [
    "columns = ['Lot Frontage', 'Mas Vnr Area', 'BsmtFin SF 1', 'BsmtFin SF 2', 'Bsmt Unf SF', 'Total Bsmt SF', \n",
    "           'Bsmt Full Bath', 'Bsmt Half Bath', 'Garage Yr Blt', 'Garage Cars', 'Garage Area']\n",
    "\n",
    "to_type = 'float64'\n",
    "\n",
    "change_dtype(test, columns, to_type)"
   ]
  },
  {
   "cell_type": "markdown",
   "metadata": {},
   "source": [
    "### Cleaning Complete and Save File"
   ]
  },
  {
   "cell_type": "markdown",
   "metadata": {},
   "source": [
    "Now that we confirm all null values are filled, data types of corresponding train and test dataframe is the same, we shall save the cleansed csv as another file name and move onto the next phase of our project. Exploratory and Feature Engineering in the next notebook"
   ]
  },
  {
   "cell_type": "code",
   "execution_count": 49,
   "metadata": {},
   "outputs": [],
   "source": [
    "train.to_csv('../datasets/train_cleansed.csv', index=False)\n",
    "test.to_csv('../datasets/test_cleansed.csv', index=False)"
   ]
  }
 ],
 "metadata": {
  "kernelspec": {
   "display_name": "Python 3",
   "language": "python",
   "name": "python3"
  },
  "language_info": {
   "codemirror_mode": {
    "name": "ipython",
    "version": 3
   },
   "file_extension": ".py",
   "mimetype": "text/x-python",
   "name": "python",
   "nbconvert_exporter": "python",
   "pygments_lexer": "ipython3",
   "version": "3.6.4"
  }
 },
 "nbformat": 4,
 "nbformat_minor": 2
}
